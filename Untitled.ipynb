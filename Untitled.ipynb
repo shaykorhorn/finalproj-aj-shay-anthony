{
 "cells": [
  {
   "cell_type": "code",
   "execution_count": 2,
   "id": "171ae4f7",
   "metadata": {},
   "outputs": [],
   "source": [
    "x=34\n",
    "y=45\n",
    "z=x+y"
   ]
  },
  {
   "cell_type": "code",
   "execution_count": 4,
   "id": "32c8c74b",
   "metadata": {},
   "outputs": [
    {
     "name": "stdout",
     "output_type": "stream",
     "text": [
      "79\n"
     ]
    }
   ],
   "source": [
    "print(z)"
   ]
  },
  {
   "cell_type": "code",
   "execution_count": 5,
   "id": "d31b4fa7",
   "metadata": {},
   "outputs": [
    {
     "name": "stdout",
     "output_type": "stream",
     "text": [
      "0.5897435897435898\n"
     ]
    }
   ],
   "source": [
    "a=4.6\n",
    "b=7.8\n",
    "c=a/b\n",
    "print(c)"
   ]
  },
  {
   "cell_type": "code",
   "execution_count": 6,
   "id": "2ff6df64",
   "metadata": {},
   "outputs": [
    {
     "name": "stdout",
     "output_type": "stream",
     "text": [
      "330\n"
     ]
    }
   ],
   "source": [
    "a=10\n",
    "b=33\n",
    "area=a*b\n",
    "print(area)"
   ]
  },
  {
   "cell_type": "markdown",
   "id": "e0b1cc93",
   "metadata": {},
   "source": [
    "### Heading 3\n",
    "* List1\n",
    "* List2\n",
    "1. Ordered1\n",
    "2. Ordered2"
   ]
  },
  {
   "cell_type": "raw",
   "id": "cbb5dceb",
   "metadata": {},
   "source": [
    "* This is a highlighted text *"
   ]
  },
  {
   "cell_type": "markdown",
   "id": "433f0294",
   "metadata": {},
   "source": [
    "![Python Logo](https://upload.wikimedia.org/wikipedia/commons/thumb/c/c3/Python-logo-notext.svg/1869px-Python-logo-notext.svg.png)"
   ]
  },
  {
   "cell_type": "code",
   "execution_count": null,
   "id": "5e64738d",
   "metadata": {},
   "outputs": [],
   "source": []
  }
 ],
 "metadata": {
  "kernelspec": {
   "display_name": "Python 3 (ipykernel)",
   "language": "python",
   "name": "python3"
  },
  "language_info": {
   "codemirror_mode": {
    "name": "ipython",
    "version": 3
   },
   "file_extension": ".py",
   "mimetype": "text/x-python",
   "name": "python",
   "nbconvert_exporter": "python",
   "pygments_lexer": "ipython3",
   "version": "3.11.4"
  }
 },
 "nbformat": 4,
 "nbformat_minor": 5
}
