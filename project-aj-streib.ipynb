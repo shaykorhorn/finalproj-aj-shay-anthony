{
 "cells": [
  {
   "cell_type": "code",
   "execution_count": 1,
   "id": "aa6b48b3",
   "metadata": {},
   "outputs": [],
   "source": [
    "class User:\n",
    "    def __init__(self, name, age, weight, height):\n",
    "        self.name = name\n",
    "        self.age = age\n",
    "        self.weight = weight\n",
    "        self.height = height\n",
    "        self.workouts = []\n",
    "\n",
    "class Workout:\n",
    "    def __init__(self, date, duration, exercises):\n",
    "        self.date = date\n",
    "        self.duration = duration\n",
    "        self.exercises = exercises\n",
    "\n",
    "class Exercise:\n",
    "    def __init__(self, name, sets, reps, calories_burned):\n",
    "        self.name = name\n",
    "        self.sets = sets\n",
    "        self.reps = reps\n",
    "        self.calories_burned = calories_burned\n",
    "\n",
    "class Goal:\n",
    "    def __init__(self, user, target_weight, target_calories_burned):\n",
    "        self.user = user\n",
    "        self.target_weight = target_weight\n",
    "        self.target_calories_burned = target_calories_burned"
   ]
  },
  {
   "cell_type": "code",
   "execution_count": null,
   "id": "1692382d",
   "metadata": {},
   "outputs": [],
   "source": []
  }
 ],
 "metadata": {
  "kernelspec": {
   "display_name": "Python 3 (ipykernel)",
   "language": "python",
   "name": "python3"
  },
  "language_info": {
   "codemirror_mode": {
    "name": "ipython",
    "version": 3
   },
   "file_extension": ".py",
   "mimetype": "text/x-python",
   "name": "python",
   "nbconvert_exporter": "python",
   "pygments_lexer": "ipython3",
   "version": "3.11.4"
  }
 },
 "nbformat": 4,
 "nbformat_minor": 5
}
